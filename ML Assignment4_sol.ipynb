{
 "cells": [
  {
   "cell_type": "markdown",
   "metadata": {},
   "source": [
    "1.1 Write a Python Program(with class concepts) to find the area of the triangle using the below\n",
    "formula.\n",
    "area = (s*(s-a)*(s-b)*(s-c)) ** 0.5\n",
    "Function to take the length of the sides of triangle from user should be defined in the parent\n",
    "class and function to calculate the area should be defined in subclass."
   ]
  },
  {
   "cell_type": "code",
   "execution_count": 1,
   "metadata": {},
   "outputs": [
    {
     "name": "stdout",
     "output_type": "stream",
     "text": [
      "Enter the value of side A :5\n",
      "Enter the value of side B :5\n",
      "Enter the value of side C :5\n",
      "The area of triangle with given sides is : 10.825317547305483\n"
     ]
    }
   ],
   "source": [
    "#parent class -accepting input from user\n",
    "class InputTriangle:\n",
    "    def __init__(self):\n",
    "        self.sidea=int(input(\"Enter the value of side A :\"))\n",
    "        self.sideb=int(input(\"Enter the value of side B :\"))\n",
    "        self.sidec=int(input(\"Enter the value of side C :\"))\n",
    "        \n",
    "#child class -with a method to print the area of triangle       \n",
    "class AreaofTriangle(InputTriangle):\n",
    "   \n",
    "    def calcarea(self):\n",
    "        area=0\n",
    "        perimeter=0.5*(self.sidea + self.sideb + self.sidec)\n",
    "        area=(perimeter*(perimeter-self.sidea)*(perimeter-self.sideb)*(perimeter-self.sideb))**0.5\n",
    "        print(\"The area of triangle with given sides is : {}\".format(area))\n",
    "\n",
    "        \n",
    "t1=AreaofTriangle()\n",
    "t1.calcarea()"
   ]
  },
  {
   "cell_type": "markdown",
   "metadata": {},
   "source": [
    "1.2 Write a function filter_long_words() that takes a list of words and an integer n and returns\n",
    "the list of words that are longer than n."
   ]
  },
  {
   "cell_type": "code",
   "execution_count": 2,
   "metadata": {},
   "outputs": [
    {
     "name": "stdout",
     "output_type": "stream",
     "text": [
      "List of words that are longer than 6 are ['helloworld', 'haasini', 'babydoll']\n"
     ]
    }
   ],
   "source": [
    "#solution\n",
    "class fliterwords:\n",
    "    def __init__(self,wordlist,n):\n",
    "        self.wordlist=wordlist\n",
    "        self.n=n\n",
    "    def filter_long_words(self):\n",
    "        longwords=[]\n",
    "        for i in self.wordlist:\n",
    "            ilength=len(i)\n",
    "            if ilength>self.n:\n",
    "                longwords.append(i)\n",
    "        print(\"List of words that are longer than {} are {}\".format(self.n,longwords))\n",
    "\n",
    "\n",
    "x=fliterwords(['helloworld','swetha','haasini','naresh','babydoll'],6)\n",
    "x.filter_long_words()\n",
    "                \n",
    "        "
   ]
  },
  {
   "cell_type": "markdown",
   "metadata": {},
   "source": [
    "2.1 Write a Python program using function concept that maps list of words into a list of integers\n",
    "representing the lengths of the corresponding words.\n",
    "Hint: If a list [ ab,cde,erty] is passed on to the python function output should come as [2,3,4]\n",
    "Here 2,3 and 4 are the lengths of the words in the list."
   ]
  },
  {
   "cell_type": "code",
   "execution_count": 3,
   "metadata": {},
   "outputs": [
    {
     "name": "stdout",
     "output_type": "stream",
     "text": [
      "Given word list Mapped to their corresponding lengths [10, 1, 7, 6, 8, 0]\n"
     ]
    }
   ],
   "source": [
    "#solution\n",
    "\n",
    "def mapwords_length(wordlist1):\n",
    "    wordlengthlist=[]\n",
    "    for j in wordlist1:\n",
    "        jlength=len(j)\n",
    "        wordlengthlist.append(jlength)\n",
    "    print(\"Given word list Mapped to their corresponding lengths\",wordlengthlist)\n",
    "\n",
    "    \n",
    "mapwords_length(['helloworld','x','haasini','naresh','babydoll',''])\n"
   ]
  },
  {
   "cell_type": "markdown",
   "metadata": {},
   "source": [
    "2.2 Write a Python function which takes a character (i.e. a string of length 1) and returns True if\n",
    "it is a vowel, False otherwise."
   ]
  },
  {
   "cell_type": "code",
   "execution_count": 4,
   "metadata": {},
   "outputs": [
    {
     "data": {
      "text/plain": [
       "True"
      ]
     },
     "execution_count": 4,
     "metadata": {},
     "output_type": "execute_result"
    }
   ],
   "source": [
    "#solution\n",
    "def isvowel(ch):\n",
    "    vowels=['a','e','i','o','u']\n",
    "    if len(ch)==1:\n",
    "        for l in vowels:\n",
    "            if l.upper()==ch.upper():\n",
    "                return True\n",
    "            else:\n",
    "                continue\n",
    "        else:\n",
    "            return False\n",
    "    else:\n",
    "        print(\"wrong input..please pass single character\")\n",
    "\n",
    "isvowel('U')\n",
    "#isvowel('aa')"
   ]
  },
  {
   "cell_type": "code",
   "execution_count": null,
   "metadata": {},
   "outputs": [],
   "source": []
  }
 ],
 "metadata": {
  "kernelspec": {
   "display_name": "Python 3",
   "language": "python",
   "name": "python3"
  },
  "language_info": {
   "codemirror_mode": {
    "name": "ipython",
    "version": 3
   },
   "file_extension": ".py",
   "mimetype": "text/x-python",
   "name": "python",
   "nbconvert_exporter": "python",
   "pygments_lexer": "ipython3",
   "version": "3.7.4"
  }
 },
 "nbformat": 4,
 "nbformat_minor": 2
}
