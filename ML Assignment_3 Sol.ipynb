{
 "cells": [
  {
   "cell_type": "markdown",
   "metadata": {},
   "source": [
    "1.1 Write a Python Program to implement your own myreduce() function which works exactly\n",
    "like Python's built-in function reduce()"
   ]
  },
  {
   "cell_type": "code",
   "execution_count": 3,
   "metadata": {},
   "outputs": [
    {
     "name": "stdout",
     "output_type": "stream",
     "text": [
      "Custom reduce function max value:  1333\n",
      "Built-in reduce function max value: 1333\n"
     ]
    }
   ],
   "source": [
    "#Find max number from the given list\n",
    "def my_reduce(func,lst):\n",
    "    output=lst[0]\n",
    "    for i in lst[1:]:\n",
    "        output=max_func(output,i)\n",
    "    return output \n",
    "def max_func(x,y):\n",
    "    if(x>y):\n",
    "        return x\n",
    "    else:\n",
    "        return y\n",
    "    \n",
    "max_of_list=my_reduce(max_func,[1,20,156,3,121,145,23,75,131,1333])\n",
    "print(f'Custom reduce function max value:  {max_of_list}')\n",
    "from functools import reduce\n",
    "max_list=reduce(lambda x,y:x if x>y else y,[1,20,156,3,121,145,23,75,131,1333] )\n",
    "print(f\"Built-in reduce function max value: {max_list}\")\n"
   ]
  },
  {
   "cell_type": "markdown",
   "metadata": {},
   "source": [
    "1.2 Write a Python program to implement your own myfilter() function which works exactly\n",
    "like Python's built-in function filter()"
   ]
  },
  {
   "cell_type": "code",
   "execution_count": 4,
   "metadata": {},
   "outputs": [
    {
     "name": "stdout",
     "output_type": "stream",
     "text": [
      "Custom Filter function output of positive numbers: [75, 131, 1333]\n",
      "Built-in Filter function output of positive numbers: [75, 131, 1333]\n"
     ]
    }
   ],
   "source": [
    "#Find positive numbers from the given list\n",
    "def my_filter(func,lst):\n",
    "    output=[]\n",
    "    for i in lst:\n",
    "        if func(i):\n",
    "            output.append(i)\n",
    "    return output \n",
    "\n",
    "def func(num):\n",
    "    if num>0:\n",
    "        return True\n",
    "    \n",
    "positive_list=my_filter(func,[-1,-20,0,-23,75,131,1333])\n",
    "print(f\"Custom Filter function output of positive numbers: {positive_list}\")\n",
    "pos_list=list(filter(lambda x : True if x>0 else False, [-1,-20,0,-23,75,131,1333] ))\n",
    "print(f\"Built-in Filter function output of positive numbers: {pos_list}\")"
   ]
  },
  {
   "cell_type": "markdown",
   "metadata": {},
   "source": [
    "Q.2 Implement List comprehensions to produce the following lists. Write List comprehensions to produce the following Lists\n",
    "\n",
    "['A', 'C', 'A', 'D', 'G', 'I', ’L’, ‘ D’]\n",
    "\n",
    "['x', 'xx', 'xxx', 'xxxx', 'y', 'yy', 'yyy', 'yyyy', 'z', 'zz', 'zzz', 'zzzz']\n",
    "\n",
    "['x', 'y', 'z', 'xx', 'yy', 'zz', 'xx', 'yy', 'zz', 'xxxx', 'yyyy', 'zzzz']\n",
    "\n",
    "[[2], [3], [4], [3], [4], [5], [4], [5], [6]]\n",
    "\n",
    "[[2, 3, 4, 5], [3, 4, 5, 6], [4, 5, 6, 7], [5, 6, 7, 8]]\n",
    "\n",
    "[(1, 1), (2, 1), (3, 1), (1, 2), (2, 2), (3, 2), (1, 3), (2, 3), (3, 3)]"
   ]
  },
  {
   "cell_type": "code",
   "execution_count": 5,
   "metadata": {},
   "outputs": [
    {
     "name": "stdout",
     "output_type": "stream",
     "text": [
      "['A', 'C', 'A', 'D', 'G', 'I', 'L', 'D']\n",
      "\n",
      "['x', 'xx', 'xxx', 'xxxx', 'y', 'yy', 'yyy', 'yyyy', 'z', 'zz', 'zzz', 'zzzz']\n",
      "\n",
      "['x', 'y', 'z', 'xx', 'yy', 'zz', 'xxx', 'yyy', 'zzz', 'xxxx', 'yyyy', 'zzzz']\n",
      "\n",
      "[[2], [3], [4], [3], [4], [5], [4], [5], [6]]\n",
      "\n",
      "[[2, 3, 4, 5], [3, 4, 5, 6], [4, 5, 6, 7], [5, 6, 7, 8]]\n",
      "\n",
      "[(1, 1), (2, 1), (3, 1), (1, 2), (2, 2), (3, 2), (1, 3), (2, 3), (3, 3)]\n",
      "\n"
     ]
    }
   ],
   "source": [
    "print([i for i in 'ACADGILD'],end='\\n\\n')\n",
    "print([row2*i for row2 in 'xyz' for i in range(1,5)],end='\\n\\n')\n",
    "print([row3*i for row3 in range(1,5) for i in 'xyz'],end='\\n\\n')\n",
    "print([[row4+i] for row4 in range(1,4) for i in range(1,4)],end='\\n\\n')\n",
    "print([[row5+i for row5 in range(1,5)] for i in range(1,5)],end='\\n\\n')\n",
    "print([(i,row6) for row6 in range(1,4) for i in range(1,4)],end='\\n\\n')"
   ]
  },
  {
   "cell_type": "code",
   "execution_count": null,
   "metadata": {},
   "outputs": [],
   "source": []
  }
 ],
 "metadata": {
  "kernelspec": {
   "display_name": "Python 3",
   "language": "python",
   "name": "python3"
  },
  "language_info": {
   "codemirror_mode": {
    "name": "ipython",
    "version": 3
   },
   "file_extension": ".py",
   "mimetype": "text/x-python",
   "name": "python",
   "nbconvert_exporter": "python",
   "pygments_lexer": "ipython3",
   "version": "3.7.4"
  }
 },
 "nbformat": 4,
 "nbformat_minor": 2
}
